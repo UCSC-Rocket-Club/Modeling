{
 "cells": [
  {
   "cell_type": "code",
   "execution_count": 2,
   "metadata": {
    "collapsed": true
   },
   "outputs": [],
   "source": [
    "from matplotlib.pyplot import *\n",
    "% matplotlib inline\n",
    "from numpy import *\n",
    "from astropy.io import ascii"
   ]
  },
  {
   "cell_type": "code",
   "execution_count": 7,
   "metadata": {},
   "outputs": [],
   "source": [
    "my_theta = 0\n",
    "my_alpha = pi\n",
    "\n",
    "def move(heading, distance):\n",
    "    cur_theta = my_theta\n",
    "    new_theta = 2*arcsin(((sin(0.5*my_theta))**2 + (sin(0.5*distance))**2 - 2*sin(0.5*my_theta)*sin(0.5*distance)*cos(heading))**0.5)\n",
    "    \n",
    "    if new_theta == 0:\n",
    "        new_alpha = 0\n",
    "    else:\n",
    "        \n",
    "        gamma = arcsin((2*sin(0.5*cur_theta)*sin(heading))/(new_theta))\n",
    "        new_alpha = pi-gamma\n",
    "    return new_theta, new_alpha"
   ]
  },
  {
   "cell_type": "code",
   "execution_count": 9,
   "metadata": {},
   "outputs": [
    {
     "name": "stdout",
     "output_type": "stream",
     "text": [
      " Theta:  0.1\n",
      "Alpha:  3.14159265359\n"
     ]
    }
   ],
   "source": [
    "new_theta, new_alpha = move(pi, 0.1)\n",
    "print \"Theta: \", new_theta\n",
    "print \"Alpha: \", new_alpha"
   ]
  },
  {
   "cell_type": "code",
   "execution_count": 13,
   "metadata": {},
   "outputs": [
    {
     "name": "stdout",
     "output_type": "stream",
     "text": [
      "Theta:  0.1\n",
      "Alpha:  3.14159265359\n"
     ]
    }
   ],
   "source": [
    "new_theta, new_alpha = move(0, 0.1)\n",
    "my_theta = new_theta\n",
    "my_alpha = new_alpha\n",
    "print \"Theta: \", new_theta\n",
    "print \"Alpha: \", new_alpha"
   ]
  },
  {
   "cell_type": "code",
   "execution_count": 14,
   "metadata": {},
   "outputs": [
    {
     "name": "stdout",
     "output_type": "stream",
     "text": [
      "Theta:  0.141480407336\n",
      "Alpha:  2.3570279637\n"
     ]
    }
   ],
   "source": [
    "new_theta, new_alpha = move(pi/2, 0.1)\n",
    "my_theta = new_theta\n",
    "my_alpha = new_alpha\n",
    "print \"Theta: \", new_theta\n",
    "print \"Alpha: \", new_alpha"
   ]
  },
  {
   "cell_type": "code",
   "execution_count": null,
   "metadata": {
    "collapsed": true
   },
   "outputs": [],
   "source": []
  }
 ],
 "metadata": {
  "kernelspec": {
   "display_name": "Python 2",
   "language": "python",
   "name": "python2"
  },
  "language_info": {
   "codemirror_mode": {
    "name": "ipython",
    "version": 2
   },
   "file_extension": ".py",
   "mimetype": "text/x-python",
   "name": "python",
   "nbconvert_exporter": "python",
   "pygments_lexer": "ipython2",
   "version": "2.7.13"
  }
 },
 "nbformat": 4,
 "nbformat_minor": 2
}
