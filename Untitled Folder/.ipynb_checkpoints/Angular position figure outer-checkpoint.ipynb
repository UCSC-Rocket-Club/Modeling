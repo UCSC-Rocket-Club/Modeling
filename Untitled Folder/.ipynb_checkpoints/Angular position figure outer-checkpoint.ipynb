{
 "cells": [
  {
   "cell_type": "code",
   "execution_count": 34,
   "metadata": {
    "collapsed": true
   },
   "outputs": [],
   "source": [
    "from matplotlib.pyplot import *\n",
    "% matplotlib inline\n",
    "from numpy import *\n",
    "from astropy.io import ascii"
   ]
  },
  {
   "cell_type": "code",
   "execution_count": 78,
   "metadata": {},
   "outputs": [],
   "source": [
    "#current global position\n",
    "\n",
    "\n",
    "\n",
    "my_heading = 0.1   #this is the angle between the vetical and the heading of the rocket\n",
    "my_orientation = pi/2 #this is the angle that the x axis makes with a circle of constant my_heading, measured towards the center of the circle\n",
    "\n",
    "def update_angular_state(omega, time_step):    #omega is a vector omega[x,y,z]\n",
    "    beta = []\n",
    "    for i in range (0, len(omega)):\n",
    "        beta.append(omega[i]*time_step)\n",
    "        \n",
    "    new_heading_x = update_heading_x(my_heading, my_orientation, beta[0])\n",
    "    new_heading_y = update_heading_y(new_heading_x, my_orientation, beta[1])\n",
    "        \n",
    "    new_heading = new_heading_y\n",
    "    \n",
    "    new_orientation = my_orientation+beta[2] #this is wrong\n",
    "    \n",
    "    return new_heading, new_orientation\n",
    "    \n",
    "    \n",
    "def update_heading_x(cur_theta, alpha, beta_added):\n",
    "    if alpha == 0: #prevent division by zero\n",
    "        alpha = 0.00001\n",
    "    return arccos(sin(alpha)*sin(arcsin(cos(cur_theta)/sin(alpha))+beta_added))\n",
    "\n",
    "def update_heading_y(cur_theta, alpha, beta_added):\n",
    "    if alpha == 0:\n",
    "        alpha = 0.00001\n",
    "    return arccos(sin(pi/2-alpha)*sin(arcsin(cos(cur_theta)/sin(pi/2-alpha))+beta_added))"
   ]
  },
  {
   "cell_type": "code",
   "execution_count": 79,
   "metadata": {},
   "outputs": [
    {
     "name": "stderr",
     "output_type": "stream",
     "text": [
      "C:\\Anaconda\\lib\\site-packages\\ipykernel_launcher.py:31: RuntimeWarning: divide by zero encountered in double_scalars\n",
      "C:\\Anaconda\\lib\\site-packages\\ipykernel_launcher.py:31: RuntimeWarning: invalid value encountered in arcsin\n"
     ]
    }
   ],
   "source": [
    "my_omega = [1,0,0]\n",
    "dt = 0.1\n",
    "my_heading, my_orientation = update_angular_state(my_omega, dt)"
   ]
  },
  {
   "cell_type": "code",
   "execution_count": null,
   "metadata": {},
   "outputs": [],
   "source": []
  },
  {
   "cell_type": "code",
   "execution_count": 81,
   "metadata": {},
   "outputs": [
    {
     "name": "stdout",
     "output_type": "stream",
     "text": [
      "nan\n",
      "nan\n"
     ]
    },
    {
     "name": "stderr",
     "output_type": "stream",
     "text": [
      "C:\\Anaconda\\lib\\site-packages\\ipykernel_launcher.py:8: RuntimeWarning: invalid value encountered in arcsin\n",
      "  \n"
     ]
    }
   ],
   "source": [
    "####TESTING####\n",
    "\n",
    "theta_current = 0.1\n",
    "alpha = pi/3\n",
    "\n",
    "beta_added = pi/4\n",
    "\n",
    "beta_pos = arcsin(cos(theta_current)/sin(alpha))\n",
    "theta_f = arccos(sin(alpha)*sin(beta_pos+beta_added))\n",
    "\n",
    "print theta_f\n",
    "print beta_pos"
   ]
  },
  {
   "cell_type": "code",
   "execution_count": null,
   "metadata": {
    "collapsed": true
   },
   "outputs": [],
   "source": []
  }
 ],
 "metadata": {
  "kernelspec": {
   "display_name": "Python 2",
   "language": "python",
   "name": "python2"
  },
  "language_info": {
   "codemirror_mode": {
    "name": "ipython",
    "version": 2
   },
   "file_extension": ".py",
   "mimetype": "text/x-python",
   "name": "python",
   "nbconvert_exporter": "python",
   "pygments_lexer": "ipython2",
   "version": "2.7.13"
  }
 },
 "nbformat": 4,
 "nbformat_minor": 2
}
